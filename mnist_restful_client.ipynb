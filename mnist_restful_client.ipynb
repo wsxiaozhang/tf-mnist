{
 "cells": [
  {
   "cell_type": "markdown",
   "metadata": {},
   "source": [
    "### 1. Prepare test dataset\n",
    "Use MNIST Test images directly"
   ]
  },
  {
   "cell_type": "code",
   "execution_count": 141,
   "metadata": {},
   "outputs": [
    {
     "name": "stdout",
     "output_type": "stream",
     "text": [
      "Extracting code/tf-mnist/data/mnist/train-images-idx3-ubyte.gz\n",
      "Extracting code/tf-mnist/data/mnist/train-labels-idx1-ubyte.gz\n",
      "Extracting code/tf-mnist/data/mnist/t10k-images-idx3-ubyte.gz\n",
      "Extracting code/tf-mnist/data/mnist/t10k-labels-idx1-ubyte.gz\n",
      "('Shape of test set:', (10000, 784))\n",
      "('Shape of test set labels:', (10000, 10))\n"
     ]
    }
   ],
   "source": [
    "data_dir=\"code/tf-mnist/data/mnist\"\n",
    "from tensorflow.examples.tutorials.mnist import input_data\n",
    "mnist = input_data.read_data_sets(data_dir, one_hot=True)\n",
    "test_images = mnist.test.images\n",
    "test_labels = mnist.test.labels\n",
    "print('Shape of test set:', test_images.shape)\n",
    "print('Shape of test set labels:', test_labels.shape)\n",
    "digits = ['0','1','2','3','4','5','6','7','8','9']"
   ]
  },
  {
   "cell_type": "markdown",
   "metadata": {},
   "source": [
    "### 2. Show test images\n",
    "Randomly select and show an image from MNIST Test images"
   ]
  },
  {
   "cell_type": "code",
   "execution_count": 142,
   "metadata": {},
   "outputs": [
    {
     "name": "stdout",
     "output_type": "stream",
     "text": [
      "4808\n"
     ]
    },
    {
     "data": {
      "image/png": "[encoded data removed]",
      "text/plain": [
       "<matplotlib.figure.Figure at 0x7fdf65540310>"
      ]
     },
     "metadata": {},
     "output_type": "display_data"
    }
   ],
   "source": [
    "# import matplotlib\n",
    "import matplotlib.pyplot as plt\n",
    "%matplotlib inline\n",
    "def show(idx, title):\n",
    "  plt.figure()\n",
    "  plt.imshow(test_images[idx].reshape(28,28))\n",
    "  plt.axis('off')\n",
    "  plt.title('\\n\\n{}'.format(title), fontdict={'size': 16})\n",
    "\n",
    "import numpy as np\n",
    "import random\n",
    "rando = random.randint(0,len(test_images)-1)\n",
    "print rando\n",
    "# get digit mapping to test label vector\n",
    "test_cls = np.argmax(test_labels, axis=1)\n",
    "show(rando, 'Randomly select mnist test image: {}'.format(digits[test_cls[rando]]))"
   ]
  },
  {
   "cell_type": "markdown",
   "metadata": {},
   "source": [
    "### 3. Invoke RESTful API of MNIST model service\n",
    "Invoke the running MNIST model inference service, show socres and prediction result comparing with input image"
   ]
  },
  {
   "cell_type": "code",
   "execution_count": 143,
   "metadata": {
    "scrolled": true
   },
   "outputs": [
    {
     "name": "stdout",
     "output_type": "stream",
     "text": [
      "[[-9.45941, -10.3765, -2.3368, 11.9541, -16.8212, 6.72099, -15.582, -2.11773, 1.63442, 0.037915]]\n"
     ]
    },
    {
     "data": {
      "image/png": "[encoded data removed]",
      "text/plain": [
       "<matplotlib.figure.Figure at 0x7fdf6561ca90>"
      ]
     },
     "metadata": {},
     "output_type": "display_data"
    }
   ],
   "source": [
    "model_api='http://172.21.11.136:8501/v1/models/mnist'\n",
    "\n",
    "#!pip install -q requests\n",
    "import requests\n",
    "import json\n",
    "data = json.dumps({\"signature_name\": \"predict_images\", \"inputs\": test_images[rando].reshape(1, 784).tolist()})\n",
    "#print data\n",
    "#import pickle\n",
    "#print pickle.dumps(test_images[rando])\n",
    "headers = {\"content-type\": \"application/json\"}\n",
    "metadata=requests.get(model_api + '/metadata')\n",
    "json_response = requests.post(model_api+':predict', data=data, headers=headers)\n",
    "scores = json.loads(json_response.text)['outputs']\n",
    "print scores\n",
    "predicted_digits_idx = np.argmax(scores[0])\n",
    "show(rando, 'The model thought this was a {}. \\nAnd it was actually a {}, like this'.format(digits[predicted_digits_idx], test_cls[rando]))\n"
   ]
  },
  {
   "cell_type": "code",
   "execution_count": null,
   "metadata": {},
   "outputs": [],
   "source": []
  }
 ],
 "metadata": {
  "kernelspec": {
   "display_name": "Python 2",
   "language": "python",
   "name": "python2"
  },
  "language_info": {
   "codemirror_mode": {
    "name": "ipython",
    "version": 2
   },
   "file_extension": ".py",
   "mimetype": "text/x-python",
   "name": "python",
   "nbconvert_exporter": "python",
   "pygments_lexer": "ipython2",
   "version": "2.7.12"
  }
 },
 "nbformat": 4,
 "nbformat_minor": 2
}
